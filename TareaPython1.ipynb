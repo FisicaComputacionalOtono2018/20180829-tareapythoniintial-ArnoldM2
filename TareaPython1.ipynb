{
  "nbformat": 4,
  "nbformat_minor": 0,
  "metadata": {
    "colab": {
      "name": "TareaPython.ipynb",
      "version": "0.3.2",
      "provenance": [],
      "collapsed_sections": []
    },
    "kernelspec": {
      "name": "python3",
      "display_name": "Python 3"
    }
  },
  "cells": [
    {
      "metadata": {
        "id": "SPgMf3tqKwwl",
        "colab_type": "text"
      },
      "cell_type": "markdown",
      "source": [
        "De le solución y convierta en código pyton los siguientes problemas. \n",
        "\n",
        "\n",
        "1. Escriba una función que calcula el ángulo entre dos vectores.\n",
        "2. Escriba una función que devuelva los 3 ángulos con respecto a los ejes x, y y z de un vector tridimencional.\n",
        "3. Escriba una función que calcule el producto vectorial entre dos vectores tridimensionales.\n",
        "4. Traduzca el diagrama de flujo mostrado en la imagen al lenguaje Python y describa lo que realiza. \n",
        "![alt text](http://isapedraza.web.cern.ch/isapedraza/tmpWork/FisicaComputacional/diagrama.png)\n",
        "\n",
        "5. Diseñar un algoritmo en python que imprima y sume una serie la serie de números 3,6,9,12,...,99\n",
        "6. Escribir un algoritmo en python que lea cuatro números y que al final escriba el mayor de los cuatro.\n",
        "7. Diseñar un algorimo  en pytohn para calcular la velocidad (en m/s) de los corredores de la carrera de 1.500 metros. La entrada consistirá en parejas de números (minutos y segundos) que dan el tiempo del corredos; por cada corredor, el algoritmo debe imprimir el tiempo en minutos y segundos, así como la velocidad media. \n",
        "  Ejemplo de entrada de datos: (3,53)(3,40)(3,46)(3,52)(4,0)(0,0). El último par de datos se utilizará como fin de entrada de datos. \n",
        " \n",
        "8. Escribir un algoritmo que calcule la superficie de un triángulo en función de la base y la altura. ($A= 1/2 *Base * Altura$)\n",
        " \n",
        "9. Un sistema de ecuaciones lineales \n",
        " \\begin{equation}\n",
        "ax + by = c\n",
        " \\end{equation}\n",
        "\\begin{equation}\n",
        "dx + ey = f\n",
        "\\end{equation}\n",
        " \n",
        " se puede resolver con las siguientes fórmulas: \n",
        "\\begin{equation}\n",
        "x = \\frac{ce-bf}{ae-bd}\n",
        "\\end{equation}\n",
        "\n",
        "\\begin{equation}\n",
        "y = \\frac{af-cd}{ae-bd}\n",
        "\\end{equation}\n",
        "\n",
        "\n",
        "10. Diseñar un programa en Python que lea los dos conjutnos de coeficientes (a,b y c; d,e y f) y visualice los valores de $x$ y $y$. \n",
        " \n",
        " 11. Diseñe un programa que grafique las siguietes funciones en una misma gráfica. En el rango de -10 a 15. \n",
        " \\begin{equation}\n",
        "f1(x) = 2x^2 + 5x - 2\n",
        "\\end{equation}\n",
        "\\begin{equation}\n",
        "f2(x) = 4x + 1\n",
        "\\end{equation}\n",
        "---\n",
        "\n",
        "\n",
        "\n",
        "---\n",
        "\n",
        "\n",
        "\n",
        " "
      ]
    },
    {
      "metadata": {
        "id": "EWS33AFX0H_3",
        "colab_type": "code",
        "colab": {}
      },
      "cell_type": "code",
      "source": [
        ""
      ],
      "execution_count": 0,
      "outputs": []
    },
    {
      "metadata": {
        "id": "xGYqz3KOlKyM",
        "colab_type": "code",
        "colab": {
          "base_uri": "https://localhost:8080/",
          "height": 170
        },
        "outputId": "f5fafbba-cae0-4d7e-9e96-56bd6adae404"
      },
      "cell_type": "code",
      "source": [
        "#Alumno: Arnold Morales Morales\n",
        "#Tarea\n",
        "#1. Calcula angulo entre dos vectores\n",
        "\n",
        "import math\n",
        "\n",
        "print ('Introduce las componentes de tu primer vector (a)')\n",
        "ax = int (input ('Componente en x:'))\n",
        "ay = int (input ('Componente en y:'))\n",
        "az = int (input ('Componente en z:'))\n",
        "\n",
        "print ('Introduce las componentes de tu segundo vector (b)')\n",
        "bx = int (input ('Componente en x:'))\n",
        "by = int (input ('Componente en y:'))\n",
        "bz = int (input ('Componente en z:'))\n",
        "\n",
        "ma = math.sqrt ((ax**2)+(ay**2)+(az**2))\n",
        "mb = math.sqrt ((bx**2)+(by**2)+(bz**2))\n",
        "ab = (ax*bx)+(ay*by)+(az*bz)\n",
        "\n",
        "costheta = ab/(ma*mb)\n",
        "theta1 = math.acos (costheta)\n",
        "theta = math.degrees (theta1)\n",
        "\n",
        "print ('El angulo entre los dos vectores (en grados) es:',theta)"
      ],
      "execution_count": 5,
      "outputs": [
        {
          "output_type": "stream",
          "text": [
            "Introduce las componentes de tu primer vector (a)\n",
            "Componente en x:1\n",
            "Componente en y:2\n",
            "Componente en z:3\n",
            "Introduce las componentes de tu segundo vector (b)\n",
            "Componente en x:4\n",
            "Componente en y:5\n",
            "Componente en z:6\n",
            "El angulo entre los dos vectores (en grados) es: 12.933154491899135\n"
          ],
          "name": "stdout"
        }
      ]
    },
    {
      "metadata": {
        "id": "aNmuzeu7nSP0",
        "colab_type": "code",
        "colab": {
          "base_uri": "https://localhost:8080/",
          "height": 136
        },
        "outputId": "cb2a500b-f981-4d55-9971-9efc54f8097a"
      },
      "cell_type": "code",
      "source": [
        "#Tarea\n",
        "#2. Devuelve angulos respecto de los tres ejes de un vector tridimensional\n",
        "\n",
        "import math\n",
        "\n",
        "print ('Introduce las componentes de tu vector (r)')\n",
        "rx = int (input ('Componente en x:'))\n",
        "ry = int (input ('Componente en y:'))\n",
        "rz = int (input ('Componente en z:'))\n",
        "\n",
        "r = math.sqrt ((rx**2)+(ry**2)+(rz**2))\n",
        "\n",
        "alpha1 = math.acos (rx/r)\n",
        "beta1 = math.acos (ry/r)\n",
        "gamma1 = math.acos (rz/r)\n",
        "\n",
        "alpha = math.degrees (alpha1)\n",
        "beta = math.degrees (beta1)\n",
        "gamma = math.degrees (gamma1)\n",
        "\n",
        "print ('El angulo de tu vector (en grados) respecto del eje x es:', alpha)\n",
        "print ('El angulo de tu vector (en grados) respecto del eje y es:', beta)\n",
        "print ('El angulo de tu vector (en grados) respecto del eje z es:', gamma)"
      ],
      "execution_count": 9,
      "outputs": [
        {
          "output_type": "stream",
          "text": [
            "Introduce las componentes de tu vector (r)\n",
            "Componente en x:1\n",
            "Componente en y:2\n",
            "Componente en z:3\n",
            "El angulo de tu vector (en grados) respecto del eje x es: 74.498640433063\n",
            "El angulo de tu vector (en grados) respecto del eje y es: 57.688466762576155\n",
            "El angulo de tu vector (en grados) respecto del eje z es: 36.69922520048988\n"
          ],
          "name": "stdout"
        }
      ]
    },
    {
      "metadata": {
        "id": "5QpV_AwGppQi",
        "colab_type": "code",
        "colab": {
          "base_uri": "https://localhost:8080/",
          "height": 170
        },
        "outputId": "52a0ce72-b9d0-455c-e995-366b2323d401"
      },
      "cell_type": "code",
      "source": [
        "#Tarea\n",
        "#3. Calcula AxB \n",
        "\n",
        "print ('Introduce las componentes de tu primer vector (a)')\n",
        "ax = int (input ('Componente en x:'))\n",
        "ay = int (input ('Componente en y:'))\n",
        "az = int (input ('Componente en z:'))\n",
        "\n",
        "print ('Introduce las componentes de tu segundo vector (b)')\n",
        "bx = int (input ('Componente en x:'))\n",
        "by = int (input ('Componente en y:'))\n",
        "bz = int (input ('Componente en z:'))\n",
        "\n",
        "cx = (ay*bz-az*by)\n",
        "cy = -(ax*bz-az*bx)\n",
        "cz = (ax*by-ay*bx)\n",
        "\n",
        "vc = [cx,cy,cz]\n",
        "print ('El vector resultante es:', vc)"
      ],
      "execution_count": 11,
      "outputs": [
        {
          "output_type": "stream",
          "text": [
            "Introduce las componentes de tu primer vector (a)\n",
            "Componente en x:1\n",
            "Componente en y:2\n",
            "Componente en z:3\n",
            "Introduce las componentes de tu segundo vector (b)\n",
            "Componente en x:4\n",
            "Componente en y:5\n",
            "Componente en z:6\n",
            "El vector resultante es: [-3, 6, -3]\n"
          ],
          "name": "stdout"
        }
      ]
    },
    {
      "metadata": {
        "id": "Vd81J7grslC6",
        "colab_type": "code",
        "colab": {
          "base_uri": "https://localhost:8080/",
          "height": 51
        },
        "outputId": "03a40076-d9a6-412b-da54-58f67572f83f"
      },
      "cell_type": "code",
      "source": [
        "#Tarea\n",
        "#4. Diagrama de Flujo\n",
        "\n",
        "x = 1\n",
        "while x<=5:\n",
        "  if x%3==0:\n",
        "    x = x+2\n",
        "  print (x)\n",
        "  x = x+2\n",
        "#Stop :)"
      ],
      "execution_count": 14,
      "outputs": [
        {
          "output_type": "stream",
          "text": [
            "1\n",
            "5\n"
          ],
          "name": "stdout"
        }
      ]
    },
    {
      "metadata": {
        "id": "MRY8EMQVtjKB",
        "colab_type": "code",
        "colab": {
          "base_uri": "https://localhost:8080/",
          "height": 595
        },
        "outputId": "e4c8e2fe-54c6-47ab-84a1-51158f56d4ad"
      },
      "cell_type": "code",
      "source": [
        "#Tarea\n",
        "#5. Suma de los primeros multiplos de 3\n",
        "\n",
        "x = 0\n",
        "v = []\n",
        "\n",
        "while x<97:\n",
        "  x=x+3\n",
        "  print (x)\n",
        "  v.append(x)\n",
        "  \n",
        "s = sum(v)\n",
        "print ('La suma es:',s)"
      ],
      "execution_count": 16,
      "outputs": [
        {
          "output_type": "stream",
          "text": [
            "3\n",
            "6\n",
            "9\n",
            "12\n",
            "15\n",
            "18\n",
            "21\n",
            "24\n",
            "27\n",
            "30\n",
            "33\n",
            "36\n",
            "39\n",
            "42\n",
            "45\n",
            "48\n",
            "51\n",
            "54\n",
            "57\n",
            "60\n",
            "63\n",
            "66\n",
            "69\n",
            "72\n",
            "75\n",
            "78\n",
            "81\n",
            "84\n",
            "87\n",
            "90\n",
            "93\n",
            "96\n",
            "99\n",
            "La suma es: 1683\n"
          ],
          "name": "stdout"
        }
      ]
    },
    {
      "metadata": {
        "id": "scB2WG3duO4a",
        "colab_type": "code",
        "colab": {
          "base_uri": "https://localhost:8080/",
          "height": 102
        },
        "outputId": "7b7f9b17-346f-4037-a644-f4e7e07055f4"
      },
      "cell_type": "code",
      "source": [
        "#Tarea\n",
        "#6. Imprime el mayor de cuatro numeros\n",
        "\n",
        "x = int (input ('Introduce el primer numero:'))\n",
        "y = int (input ('Introduce el segundo numero:'))\n",
        "z = int (input ('Introduce el tercer numero:'))\n",
        "t = int (input ('Introduce el cuarto numero:'))\n",
        "\n",
        "if x>y:\n",
        "  if x>z:\n",
        "    if x>t:\n",
        "      print ('El mayor de los cuatro es:',x)\n",
        "    else:\n",
        "      print ('El mayor de los cuatro es:',t)\n",
        "  else:\n",
        "    if z>t:\n",
        "      print ('El mayor de los cuatro es:',z)\n",
        "    else:\n",
        "      print ('El mayor de los cuatro es:',t)\n",
        "else:\n",
        "  if y>z:\n",
        "    if y>t:\n",
        "      print ('El mayor de los cuatro es:',y)\n",
        "    else:\n",
        "      print ('El mayor de los cuatro es:',t)\n",
        "  else:\n",
        "    if z>t:\n",
        "      print ('El mayor de los cuatro es:',z)\n",
        "    else:\n",
        "      print ('El mayor de los cuatro es:',t)"
      ],
      "execution_count": 21,
      "outputs": [
        {
          "output_type": "stream",
          "text": [
            "Introduce el primer numero:1\n",
            "Introduce el segundo numero:9\n",
            "Introduce el tercer numero:4\n",
            "Introduce el cuarto numero:5\n",
            "El mayor de los cuatro es: 9\n"
          ],
          "name": "stdout"
        }
      ]
    },
    {
      "metadata": {
        "id": "qAWdGBp_wMrQ",
        "colab_type": "code",
        "colab": {
          "base_uri": "https://localhost:8080/",
          "height": 85
        },
        "outputId": "7d5cc4f6-6ca6-4c61-cc69-8f959c5e242d"
      },
      "cell_type": "code",
      "source": [
        "#Tarea\n",
        "#8. Imprime el area de un triangulo\n",
        "\n",
        "print ('Dame la base y altura (en metros)')\n",
        "b = int (input ('Base:'))\n",
        "h = float (input ('Altura:'))\n",
        "\n",
        "A = (b*h)/2\n",
        "print ('El Area de tu triangulo (en metros cuadrados) es:',A)"
      ],
      "execution_count": 23,
      "outputs": [
        {
          "output_type": "stream",
          "text": [
            "Dame la base y altura (en metros)\n",
            "Base:3\n",
            "Altura:4\n",
            "El Area de tu triangulo (en metros cuadrados) es: 6.0\n"
          ],
          "name": "stdout"
        }
      ]
    },
    {
      "metadata": {
        "id": "EmP7mJP8xKfO",
        "colab_type": "code",
        "colab": {
          "base_uri": "https://localhost:8080/",
          "height": 272
        },
        "outputId": "43809033-d2a0-47df-975e-967ac0bb5dbd"
      },
      "cell_type": "code",
      "source": [
        "#Tarea\n",
        "#9. Imprime los valores de x y y, dados a,b,c,d,e y f\n",
        "\n",
        "print ('Un sistema de ecuaciones lineales:')\n",
        "print ('       ax + by = c')\n",
        "print ('       dx + ey = f')\n",
        "\n",
        "print ('se puede resolver con las siguientes formulas:')\n",
        "print ('       x = (c*e-b*f)/(a*e-b*d)')\n",
        "print ('       y = (a*f-c*d)/(a*e-b*d')\n",
        "\n",
        "print ('Introduce los valores de a,b,c,d,e y f')\n",
        "a = int (input ('Valor de a:'))\n",
        "b = int (input ('Valor de b:'))\n",
        "c = int (input ('Valor de c:'))\n",
        "d = int (input ('Valor de d:'))\n",
        "e = int (input ('Valor de e:'))\n",
        "f = int (input ('Valor de f:'))\n",
        "\n",
        "x = (c*e-b*f)/(a*e-b*d)\n",
        "y = (a*f-c*d)/(a*e-b*d)\n",
        "\n",
        "print ('El valor de x es:',x)\n",
        "print ('El valor de y es:',y)"
      ],
      "execution_count": 30,
      "outputs": [
        {
          "output_type": "stream",
          "text": [
            "Un sistema de ecuaciones lineales:\n",
            "       ax + by = c\n",
            "       dx + ey = f\n",
            "se puede resolver con las siguientes formulas:\n",
            "       x = (c*e-b*f)/(a*e-b*d)\n",
            "       y = (a*f-c*d)/(a*e-b*d\n",
            "Introduce los valores de a,b,c,d,e y f\n",
            "Valor de a:6\n",
            "Valor de b:5\n",
            "Valor de c:4\n",
            "Valor de d:3\n",
            "Valor de e:2\n",
            "Valor de f:1\n",
            "El valor de x es: -1.0\n",
            "El valor de y es: 2.0\n"
          ],
          "name": "stdout"
        }
      ]
    },
    {
      "metadata": {
        "id": "EhkMWN_z0KQX",
        "colab_type": "code",
        "colab": {
          "base_uri": "https://localhost:8080/",
          "height": 347
        },
        "outputId": "1d0a126e-68d3-45f7-b3c0-bdaa34fb162e"
      },
      "cell_type": "code",
      "source": [
        "#Tarea\n",
        "#10. Grafica de funciones\n",
        "\n",
        "import numpy as np\n",
        "import matplotlib.pyplot as plt\n",
        "\n",
        "def fx(x):\n",
        "    return (2*(x**2)+5*x-2)\n",
        "def fx2(x):\n",
        "    return (4*x+1)\n",
        "  \n",
        "def Fx2vector(x):  \n",
        " \n",
        "  fx2vector = []  \n",
        "  for i in np.nditer(x):\n",
        "    fx2vector.append(fx2(i))\n",
        "  return fx2vector\n",
        "    \n",
        "def Fxvector(x):   \n",
        "  fxvector = []\n",
        "  for i in np.nditer(x):\n",
        "    fxvector.append(fx(i))   \n",
        "  return fxvector\n",
        "\n",
        "\n",
        "xvector = np.arange(-10, 15, 0.1)\n",
        "plt.plot(xvector, Fxvector(xvector))\n",
        "plt.plot(xvector, Fx2vector(xvector))\n",
        "plt.show()\n",
        "  "
      ],
      "execution_count": 53,
      "outputs": [
        {
          "output_type": "display_data",
          "data": {
            "image/png": "[encoded data removed]",
            "text/plain": [
              "<matplotlib.figure.Figure at 0x7f98c0d312b0>"
            ]
          },
          "metadata": {
            "tags": []
          }
        }
      ]
    }
  ]
}